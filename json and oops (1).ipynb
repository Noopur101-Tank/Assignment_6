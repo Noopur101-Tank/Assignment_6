{
 "cells": [
  {
   "cell_type": "markdown",
   "id": "d0ddc874",
   "metadata": {},
   "source": [
    "# Assignment_1"
   ]
  },
  {
   "cell_type": "code",
   "execution_count": null,
   "id": "d3203511",
   "metadata": {},
   "outputs": [],
   "source": [
    "QUESTION_1"
   ]
  },
  {
   "cell_type": "code",
   "execution_count": 5,
   "id": "a47ee7a6",
   "metadata": {
    "scrolled": true
   },
   "outputs": [
    {
     "name": "stdout",
     "output_type": "stream",
     "text": [
      "Enter the number of employees: 5\n",
      "Enter details for Employee 1:\n",
      "Name: Noopur\n",
      "DOB (YYYY-MM-DD): 2002-01-10\n",
      "Height: 5\n",
      "City: Rajkot\n",
      "State: Gujarat\n",
      "Enter details for Employee 2:\n",
      "Name: Ryan\n",
      "DOB (YYYY-MM-DD): 2002-12-12\n",
      "Height: 6\n",
      "City: Ahmedabad\n",
      "State: Gujarat\n",
      "Enter details for Employee 3:\n",
      "Name: Ashiii\n",
      "DOB (YYYY-MM-DD): 2001-09-16\n",
      "Height: 5\n",
      "City: Mumbai\n",
      "State: Maharashta\n",
      "Enter details for Employee 4:\n",
      "Name: Isaac\n",
      "DOB (YYYY-MM-DD): 2000-06-09\n",
      "Height: 6\n",
      "City: Bangalore\n",
      "State: Karnataka\n",
      "Enter details for Employee 5:\n",
      "Name: Priee\n",
      "DOB (YYYY-MM-DD): 2001-04-08\n",
      "Height: 5\n",
      "City: Baroda\n",
      "State: Gujarat\n"
     ]
    }
   ],
   "source": [
    "import json\n",
    "\n",
    "employee_data = []\n",
    "num_employees = int(input(\"Enter the number of employees: \"))\n",
    "\n",
    "for i in range(num_employees):\n",
    "    print(f\"Enter details for Employee {i + 1}:\")\n",
    "    name = input(\"Name: \")\n",
    "    dob = input(\"DOB (YYYY-MM-DD): \")\n",
    "    height = int(input(\"Height: \"))\n",
    "    city = input(\"City: \")\n",
    "    state = input(\"State: \")\n",
    "    employee_data.append({\n",
    "        \"Name\": name,\n",
    "        \"DOB\": dob,\n",
    "        \"Height\": height,\n",
    "        \"City\": city,\n",
    "        \"State\": state\n",
    "    })\n",
    "\n",
    "\n",
    "with open('employee.json', 'w') as file:\n",
    "    json.dump(employee_data, file)\n"
   ]
  },
  {
   "cell_type": "code",
   "execution_count": 6,
   "id": "e0a1a132",
   "metadata": {},
   "outputs": [
    {
     "name": "stdout",
     "output_type": "stream",
     "text": [
      "Name: Noopur, DOB: 2002-01-10, Height: 5, City: Rajkot,State:Gujarat\n",
      "Name: Ryan, DOB: 2002-12-12, Height: 6, City: Ahmedabad,State:Gujarat\n",
      "Name: Ashiii, DOB: 2001-09-16, Height: 5, City: Mumbai,State:Maharashta\n",
      "Name: Isaac, DOB: 2000-06-09, Height: 6, City: Bangalore,State:Karnataka\n",
      "Name: Priee, DOB: 2001-04-08, Height: 5, City: Baroda,State:Gujarat\n"
     ]
    }
   ],
   "source": [
    "import json\n",
    "\n",
    "class Employee:\n",
    "    def __init__(self, name, dob, height, city, state):\n",
    "        self.name = name\n",
    "        self.dob = dob\n",
    "        self.height = height\n",
    "        self.city = city\n",
    "        self.state = state\n",
    "\n",
    "with open('employee.json', 'r') as file:\n",
    "    employee_data = json.load(file)\n",
    "\n",
    "employee_objects = []\n",
    "for employee in employee_data:\n",
    "    employee_obj = Employee(\n",
    "        employee[\"Name\"],\n",
    "        employee[\"DOB\"],\n",
    "        employee[\"Height\"],\n",
    "        employee[\"City\"],\n",
    "        employee[\"State\"]\n",
    "    )\n",
    "    employee_objects.append(employee_obj)\n",
    "\n",
    "for employee in employee_objects:\n",
    "    print(f\"Name: {employee.name}, DOB: {employee.dob}, Height: {employee.height}, City: {employee.city},State:{employee.state}\")\n"
   ]
  },
  {
   "cell_type": "code",
   "execution_count": null,
   "id": "afe87cbb",
   "metadata": {},
   "outputs": [],
   "source": [
    "QUESTION_2"
   ]
  },
  {
   "cell_type": "code",
   "execution_count": 7,
   "id": "b4128ce2",
   "metadata": {},
   "outputs": [
    {
     "name": "stdout",
     "output_type": "stream",
     "text": [
      "Enter the name of the state: Gujarat\n",
      "Enter the capital of the state: Gandhinagar\n",
      "Enter the name of the state: Maharashtra\n",
      "Enter the capital of the state: Mumbai\n",
      "Enter the name of the state: karnataka\n",
      "Enter the capital of the state: Bangalore\n",
      "Enter the name of the state: Rajasthan\n",
      "Enter the capital of the state: Jaipur\n",
      "Enter the name of the state: Goa\n",
      "Enter the capital of the state: Panji\n",
      "Enter the name of the state: Bihar\n",
      "Enter the capital of the state: Patna\n",
      "Enter the name of the state: Assam\n",
      "Enter the capital of the state: Dispur\n",
      "Data is been written to 'Indian_states.json'file\n"
     ]
    }
   ],
   "source": [
    "import json\n",
    "\n",
    "states_and_capitals = {}\n",
    "for _ in range(7):\n",
    "    states = input(\"Enter the name of the state: \")\n",
    "    capital = input(\"Enter the capital of the state: \")\n",
    "    states_and_capitals[states] = capital\n",
    "    \n",
    "with open('India_states.json','w')as json_file:\n",
    "    json.dump(states_and_capitals,json_file)\n",
    "    \n",
    "print(\"Data is been written to 'Indian_states.json'file\")\n",
    "    "
   ]
  },
  {
   "cell_type": "markdown",
   "id": "0b751b44",
   "metadata": {},
   "source": [
    "# Assignment_2"
   ]
  },
  {
   "cell_type": "code",
   "execution_count": 8,
   "id": "9e28743b",
   "metadata": {},
   "outputs": [
    {
     "name": "stdout",
     "output_type": "stream",
     "text": [
      "Enter dog's name: Lucci\n",
      "Enter dog's age: 1\n",
      "Enter coat color: Brown\n",
      "Enter dog type (1 for JackRussellTerrier, 2 for Bulldog, any other key for default Dog): 1\n",
      "Enter uniqueness: Running\n",
      "Dog's name is Lucci and age is 1 years.\n",
      "The dog's coat color is Brown.\n",
      "Lucci has a uniqueness: Running.\n"
     ]
    }
   ],
   "source": [
    "class Dog:\n",
    "    def __init__(self, name, age, coat_color):\n",
    "        self.name = name\n",
    "        self.age = age\n",
    "        self.coat_color = coat_color\n",
    "\n",
    "    def description(self):\n",
    "        print(f\"Dog's name is {self.name} and age is {self.age} years.\")\n",
    "\n",
    "    def get_info(self):\n",
    "        print(f\"The dog's coat color is {self.coat_color}.\")\n",
    "\n",
    "class JackRussellTerrier(Dog):\n",
    "    def __init__(self, name, age, coat_color, uniqueness):\n",
    "        super().__init__(name, age, coat_color)\n",
    "        self.uniqueness = uniqueness\n",
    "\n",
    "    def speciality(self):\n",
    "        print(f\"{self.name} has a uniqueness: {self.uniqueness}.\")\n",
    "\n",
    "class Bulldog(Dog):\n",
    "    def __init__(self, name, age, coat_color, strength):\n",
    "        super().__init__(name, age, coat_color)\n",
    "        self.strength = strength\n",
    "\n",
    "    def show_strength(self):\n",
    "        print(f\"{self.name} is known for its strength: {self.strength}.\")\n",
    "\n",
    "        \n",
    "def create_dog():\n",
    "    name = input(\"Enter dog's name: \")\n",
    "    age = int(input(\"Enter dog's age: \"))\n",
    "    coat_color = input(\"Enter coat color: \")\n",
    "    dog_type = int(input(\"Enter dog type (1 for JackRussellTerrier, 2 for Bulldog, any other key for default Dog): \"))\n",
    "    if dog_type == 1:\n",
    "        uniqueness = input(\"Enter uniqueness: \")\n",
    "        return JackRussellTerrier(name, age, coat_color, uniqueness)\n",
    "    elif dog_type == 2:\n",
    "        strength = input(\"Enter strength: \")\n",
    "        return Bulldog(name, age, coat_color, strength)\n",
    "    else:\n",
    "        return Dog(name, age, coat_color)\n",
    "\n",
    "dog = create_dog()\n",
    "\n",
    "dog.description()\n",
    "dog.get_info()\n",
    "\n",
    "if isinstance(dog, JackRussellTerrier):\n",
    "    dog.speciality()\n",
    "elif isinstance(dog, Bulldog):\n",
    "    dog.show_strength()\n"
   ]
  }
 ],
 "metadata": {
  "kernelspec": {
   "display_name": "Python 3 (ipykernel)",
   "language": "python",
   "name": "python3"
  },
  "language_info": {
   "codemirror_mode": {
    "name": "ipython",
    "version": 3
   },
   "file_extension": ".py",
   "mimetype": "text/x-python",
   "name": "python",
   "nbconvert_exporter": "python",
   "pygments_lexer": "ipython3",
   "version": "3.10.9"
  }
 },
 "nbformat": 4,
 "nbformat_minor": 5
}
